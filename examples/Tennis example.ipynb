{
 "cells": [
  {
   "cell_type": "code",
   "execution_count": 1,
   "metadata": {},
   "outputs": [],
   "source": [
    "from sackmann import get_data"
   ]
  },
  {
   "cell_type": "code",
   "execution_count": 2,
   "metadata": {},
   "outputs": [
    {
     "name": "stdout",
     "output_type": "stream",
     "text": [
      "fatal: destination path 'tennis_atp' already exists and is not an empty directory.\r\n"
     ]
    }
   ],
   "source": [
    "# Use this to clone the data if you need it\n",
    "!git clone https://github.com/JeffSackmann/tennis_atp.git\n",
    "\n",
    "df = get_data('./tennis_atp/')"
   ]
  },
  {
   "cell_type": "code",
   "execution_count": 3,
   "metadata": {},
   "outputs": [
    {
     "data": {
      "text/html": [
       "<div>\n",
       "<style scoped>\n",
       "    .dataframe tbody tr th:only-of-type {\n",
       "        vertical-align: middle;\n",
       "    }\n",
       "\n",
       "    .dataframe tbody tr th {\n",
       "        vertical-align: top;\n",
       "    }\n",
       "\n",
       "    .dataframe thead th {\n",
       "        text-align: right;\n",
       "    }\n",
       "</style>\n",
       "<table border=\"1\" class=\"dataframe\">\n",
       "  <thead>\n",
       "    <tr style=\"text-align: right;\">\n",
       "      <th></th>\n",
       "      <th>tourney_id</th>\n",
       "      <th>tourney_name</th>\n",
       "      <th>surface</th>\n",
       "      <th>draw_size</th>\n",
       "      <th>tourney_level</th>\n",
       "      <th>tourney_date</th>\n",
       "      <th>match_num</th>\n",
       "      <th>winner_id</th>\n",
       "      <th>winner_seed</th>\n",
       "      <th>winner_entry</th>\n",
       "      <th>...</th>\n",
       "      <th>loser_rank_points</th>\n",
       "      <th>round_number</th>\n",
       "      <th>year</th>\n",
       "      <th>pts_won_serve_winner</th>\n",
       "      <th>pts_won_serve_loser</th>\n",
       "      <th>pts_played_serve_winner</th>\n",
       "      <th>pts_played_serve_loser</th>\n",
       "      <th>spw_winner</th>\n",
       "      <th>spw_loser</th>\n",
       "      <th>spw_margin</th>\n",
       "    </tr>\n",
       "  </thead>\n",
       "  <tbody>\n",
       "    <tr>\n",
       "      <th>0</th>\n",
       "      <td>1968-580</td>\n",
       "      <td>Australian Chps.</td>\n",
       "      <td>Grass</td>\n",
       "      <td>64</td>\n",
       "      <td>G</td>\n",
       "      <td>1968-01-19</td>\n",
       "      <td>1</td>\n",
       "      <td>110023</td>\n",
       "      <td>NaN</td>\n",
       "      <td>NaN</td>\n",
       "      <td>...</td>\n",
       "      <td>NaN</td>\n",
       "      <td>2</td>\n",
       "      <td>1968</td>\n",
       "      <td>NaN</td>\n",
       "      <td>NaN</td>\n",
       "      <td>NaN</td>\n",
       "      <td>NaN</td>\n",
       "      <td>NaN</td>\n",
       "      <td>NaN</td>\n",
       "      <td>NaN</td>\n",
       "    </tr>\n",
       "    <tr>\n",
       "      <th>1</th>\n",
       "      <td>1968-580</td>\n",
       "      <td>Australian Chps.</td>\n",
       "      <td>Grass</td>\n",
       "      <td>64</td>\n",
       "      <td>G</td>\n",
       "      <td>1968-01-19</td>\n",
       "      <td>2</td>\n",
       "      <td>109803</td>\n",
       "      <td>NaN</td>\n",
       "      <td>NaN</td>\n",
       "      <td>...</td>\n",
       "      <td>NaN</td>\n",
       "      <td>2</td>\n",
       "      <td>1968</td>\n",
       "      <td>NaN</td>\n",
       "      <td>NaN</td>\n",
       "      <td>NaN</td>\n",
       "      <td>NaN</td>\n",
       "      <td>NaN</td>\n",
       "      <td>NaN</td>\n",
       "      <td>NaN</td>\n",
       "    </tr>\n",
       "    <tr>\n",
       "      <th>2</th>\n",
       "      <td>1968-580</td>\n",
       "      <td>Australian Chps.</td>\n",
       "      <td>Grass</td>\n",
       "      <td>64</td>\n",
       "      <td>G</td>\n",
       "      <td>1968-01-19</td>\n",
       "      <td>3</td>\n",
       "      <td>100257</td>\n",
       "      <td>NaN</td>\n",
       "      <td>NaN</td>\n",
       "      <td>...</td>\n",
       "      <td>NaN</td>\n",
       "      <td>2</td>\n",
       "      <td>1968</td>\n",
       "      <td>NaN</td>\n",
       "      <td>NaN</td>\n",
       "      <td>NaN</td>\n",
       "      <td>NaN</td>\n",
       "      <td>NaN</td>\n",
       "      <td>NaN</td>\n",
       "      <td>NaN</td>\n",
       "    </tr>\n",
       "    <tr>\n",
       "      <th>3</th>\n",
       "      <td>1968-580</td>\n",
       "      <td>Australian Chps.</td>\n",
       "      <td>Grass</td>\n",
       "      <td>64</td>\n",
       "      <td>G</td>\n",
       "      <td>1968-01-19</td>\n",
       "      <td>4</td>\n",
       "      <td>100105</td>\n",
       "      <td>5.0</td>\n",
       "      <td>NaN</td>\n",
       "      <td>...</td>\n",
       "      <td>NaN</td>\n",
       "      <td>2</td>\n",
       "      <td>1968</td>\n",
       "      <td>NaN</td>\n",
       "      <td>NaN</td>\n",
       "      <td>NaN</td>\n",
       "      <td>NaN</td>\n",
       "      <td>NaN</td>\n",
       "      <td>NaN</td>\n",
       "      <td>NaN</td>\n",
       "    </tr>\n",
       "    <tr>\n",
       "      <th>4</th>\n",
       "      <td>1968-580</td>\n",
       "      <td>Australian Chps.</td>\n",
       "      <td>Grass</td>\n",
       "      <td>64</td>\n",
       "      <td>G</td>\n",
       "      <td>1968-01-19</td>\n",
       "      <td>5</td>\n",
       "      <td>109966</td>\n",
       "      <td>NaN</td>\n",
       "      <td>NaN</td>\n",
       "      <td>...</td>\n",
       "      <td>NaN</td>\n",
       "      <td>2</td>\n",
       "      <td>1968</td>\n",
       "      <td>NaN</td>\n",
       "      <td>NaN</td>\n",
       "      <td>NaN</td>\n",
       "      <td>NaN</td>\n",
       "      <td>NaN</td>\n",
       "      <td>NaN</td>\n",
       "      <td>NaN</td>\n",
       "    </tr>\n",
       "  </tbody>\n",
       "</table>\n",
       "<p>5 rows × 58 columns</p>\n",
       "</div>"
      ],
      "text/plain": [
       "  tourney_id      tourney_name surface  draw_size tourney_level tourney_date  \\\n",
       "0   1968-580  Australian Chps.   Grass         64             G   1968-01-19   \n",
       "1   1968-580  Australian Chps.   Grass         64             G   1968-01-19   \n",
       "2   1968-580  Australian Chps.   Grass         64             G   1968-01-19   \n",
       "3   1968-580  Australian Chps.   Grass         64             G   1968-01-19   \n",
       "4   1968-580  Australian Chps.   Grass         64             G   1968-01-19   \n",
       "\n",
       "   match_num  winner_id  winner_seed winner_entry  ... loser_rank_points  \\\n",
       "0          1     110023          NaN          NaN  ...               NaN   \n",
       "1          2     109803          NaN          NaN  ...               NaN   \n",
       "2          3     100257          NaN          NaN  ...               NaN   \n",
       "3          4     100105          5.0          NaN  ...               NaN   \n",
       "4          5     109966          NaN          NaN  ...               NaN   \n",
       "\n",
       "  round_number  year pts_won_serve_winner  pts_won_serve_loser  \\\n",
       "0            2  1968                  NaN                  NaN   \n",
       "1            2  1968                  NaN                  NaN   \n",
       "2            2  1968                  NaN                  NaN   \n",
       "3            2  1968                  NaN                  NaN   \n",
       "4            2  1968                  NaN                  NaN   \n",
       "\n",
       "   pts_played_serve_winner  pts_played_serve_loser spw_winner spw_loser  \\\n",
       "0                      NaN                     NaN        NaN       NaN   \n",
       "1                      NaN                     NaN        NaN       NaN   \n",
       "2                      NaN                     NaN        NaN       NaN   \n",
       "3                      NaN                     NaN        NaN       NaN   \n",
       "4                      NaN                     NaN        NaN       NaN   \n",
       "\n",
       "  spw_margin  \n",
       "0        NaN  \n",
       "1        NaN  \n",
       "2        NaN  \n",
       "3        NaN  \n",
       "4        NaN  \n",
       "\n",
       "[5 rows x 58 columns]"
      ]
     },
     "execution_count": 3,
     "metadata": {},
     "output_type": "execute_result"
    }
   ],
   "source": [
    "df.head()"
   ]
  },
  {
   "cell_type": "code",
   "execution_count": 4,
   "metadata": {},
   "outputs": [],
   "source": [
    "rel_df = df[df['tourney_date'].dt.year >= 1960]"
   ]
  },
  {
   "cell_type": "code",
   "execution_count": 5,
   "metadata": {},
   "outputs": [
    {
     "data": {
      "text/plain": [
       "(158394, 58)"
      ]
     },
     "execution_count": 5,
     "metadata": {},
     "output_type": "execute_result"
    }
   ],
   "source": [
    "rel_df.shape"
   ]
  },
  {
   "cell_type": "code",
   "execution_count": 6,
   "metadata": {},
   "outputs": [],
   "source": [
    "# We're going to fit a hierarchical model to rate tennis players."
   ]
  },
  {
   "cell_type": "code",
   "execution_count": 7,
   "metadata": {},
   "outputs": [],
   "source": [
    "from sklearn.preprocessing import LabelEncoder\n",
    "\n",
    "encoder = LabelEncoder()\n",
    "\n",
    "encoder.fit(rel_df['winner_name'].values.tolist() + rel_df['loser_name'].values.tolist())\n",
    "\n",
    "names = encoder.classes_\n",
    "winner_ids = encoder.transform(rel_df['winner_name'])\n",
    "loser_ids = encoder.transform(rel_df['loser_name'])"
   ]
  },
  {
   "cell_type": "code",
   "execution_count": 8,
   "metadata": {},
   "outputs": [],
   "source": [
    "from jax_advi.advi import optimize_advi_mean_field\n",
    "from jax_advi.constraints import constrain_positive\n",
    "\n",
    "theta_shapes = {\n",
    "    'player_skills': (len(names)),\n",
    "    'skill_prior_sd': ()\n",
    "}\n",
    "\n",
    "theta_constraints = {\n",
    "    'skill_prior_sd': constrain_positive\n",
    "}"
   ]
  },
  {
   "cell_type": "code",
   "execution_count": 9,
   "metadata": {},
   "outputs": [
    {
     "data": {
      "text/plain": [
       "4763"
      ]
     },
     "execution_count": 9,
     "metadata": {},
     "output_type": "execute_result"
    }
   ],
   "source": [
    "len(names)"
   ]
  },
  {
   "cell_type": "code",
   "execution_count": 10,
   "metadata": {},
   "outputs": [],
   "source": [
    "from jax.scipy.stats import norm\n",
    "from jax import jit\n",
    "from jax.nn import log_sigmoid\n",
    "import jax.numpy as jnp\n",
    "\n",
    "@jit\n",
    "def log_prior_fun(theta):\n",
    "    \n",
    "    # Prior\n",
    "    skill_prior = jnp.sum(norm.logpdf(theta['player_skills'], 0., theta['skill_prior_sd']))\n",
    "    \n",
    "    # hyperpriors\n",
    "    hyper_sd = norm.logpdf(theta['skill_prior_sd'])\n",
    "    \n",
    "    return skill_prior + hyper_sd\n",
    "\n",
    "def log_lik_fun(theta, winner_ids, loser_ids):\n",
    "    \n",
    "    logit_probs = theta['player_skills'][winner_ids] - theta['player_skills'][loser_ids]\n",
    "    \n",
    "    return jnp.sum(log_sigmoid(logit_probs))"
   ]
  },
  {
   "cell_type": "code",
   "execution_count": 11,
   "metadata": {},
   "outputs": [],
   "source": [
    "from functools import partial\n",
    "\n",
    "curried_lik = jit(partial(log_lik_fun, winner_ids=winner_ids, loser_ids=loser_ids))"
   ]
  },
  {
   "cell_type": "code",
   "execution_count": 12,
   "metadata": {
    "scrolled": true
   },
   "outputs": [
    {
     "name": "stdout",
     "output_type": "stream",
     "text": [
      "159022.96166226472 38905.580968645045\n",
      "150444.82619997975 3604.4700850484405\n",
      "150130.24464299844 3461.2708257186323\n",
      "149011.55759160526 2940.5253109797804\n",
      "147119.61449312608 14027.970600211236\n",
      "144142.4204003319 4513.902369487136\n",
      "140373.2646173833 2867.284327078305\n",
      "124323.03580545953 2403.5480770870063\n",
      "118924.23774880148 2686.932547839327\n",
      "112107.74946579822 2505.1419146767744\n",
      "107324.60914612585 756.1596542439163\n",
      "106480.05237041798 429.97941892568474\n",
      "105937.01468529737 760.9475459727009\n",
      "105643.67902358642 502.1686194641129\n",
      "105065.12967699645 294.37075323492184\n",
      "104641.29506161372 263.11844116533047\n",
      "115812.70208422239 4942.957636986873\n",
      "104617.78899724175 998.2947938207317\n",
      "104264.046540824 441.44858983574284\n",
      "104115.77884570726 267.7133873767813\n",
      "103896.88664872825 206.5260533039016\n",
      "103783.2930028467 206.19138608705003\n",
      "103549.5516767148 164.29218508057028\n",
      "103679.95165686731 719.0737368441013\n",
      "103489.70393862737 321.34664414299095\n",
      "103396.66315651988 142.7623446732422\n",
      "103354.60791075323 112.66362291080335\n",
      "103244.53267427294 65.8444479134404\n",
      "103195.25590715144 65.14544023311737\n",
      "104448.59659372893 6265.332706231667\n",
      "103190.01041140284 261.71320627346785\n",
      "103148.43655758756 179.5284096238248\n",
      "103340.89367268885 721.0575747712941\n",
      "103136.46989129114 61.163471112830194\n",
      "103127.41512868604 60.08347873261521\n",
      "103101.95718051061 49.74385811370948\n",
      "103065.4737901494 60.0525365377335\n",
      "103064.08597716104 203.5140045150756\n",
      "103051.77786239621 97.72007376255031\n",
      "103041.51000893331 49.03599022717827\n",
      "103034.00567437512 50.83710349268931\n",
      "103022.19388901028 54.5175018352178\n",
      "103005.3836479978 57.248640385440744\n",
      "103077.75637474057 1258.4202718673885\n",
      "103002.32085026268 158.01438633447822\n",
      "102991.70636714695 108.27602889356587\n",
      "103041.55425775578 448.39325269317646\n",
      "102988.98873221841 34.26614828653748\n",
      "102985.63504781546 31.323759613381814\n",
      "102977.43921795241 26.612197117890897\n",
      "102967.08885299647 27.538531212967925\n",
      "102964.68374082066 65.07006341801356\n",
      "102960.79120429726 54.650419807624495\n",
      "102957.71325171234 15.177691544495447\n",
      "102956.75630171156 12.620269639584286\n",
      "102955.29448875434 14.905423767970525\n",
      "102953.41578300425 77.64069660348\n",
      "102952.23466409493 59.549463012528115\n",
      "102951.19412313458 24.859597069224776\n",
      "102951.04338267494 14.924277985536756\n",
      "102950.8827068194 10.364589323371947\n",
      "102950.5829519971 19.51160925796481\n",
      "102950.21423106384 24.593710702166728\n",
      "102949.51907084903 26.153270149439066\n",
      "102985.4361847253 318.8456462523637\n",
      "102949.37184955018 11.34917194940148\n",
      "102948.69687686554 12.126835032520448\n",
      "102947.82193470639 12.279092337694912\n",
      "102947.037197463 30.70058129086007\n",
      "102946.8885711699 39.18928696588544\n",
      "102946.65632529676 9.463643008584285\n",
      "102946.58217414728 14.257163775666168\n",
      "102946.41851900566 20.92094638274482\n",
      "102946.2221869953 12.421882574121307\n",
      "102945.97632520316 25.811536168921947\n",
      "102945.27984371297 13.116450452940777\n",
      "102944.7717248747 6.7256360587424355\n",
      "102944.65021336656 28.590891884160563\n",
      "102944.47901024295 14.411440939840366\n",
      "102944.30373016805 8.820148166695711\n",
      "102944.17284701008 14.645223357945822\n",
      "102944.03113112565 9.282932231806809\n",
      "102944.34495580776 72.83945180256268\n",
      "102943.94392460183 27.225912145644973\n",
      "102943.72322761621 9.292967215008742\n",
      "102943.55208661793 18.780540513030072\n",
      "102943.34624229203 24.32868194029796\n",
      "102943.10590629309 15.646882295723817\n",
      "102942.80356119068 9.15120005507282\n",
      "102942.6159881691 20.41117648361955\n",
      "102942.44372867727 17.76224467570091\n",
      "102942.62857322201 63.11854380771481\n",
      "102942.346102088 33.73382262550148\n",
      "102942.09066362643 18.55707140005415\n",
      "102941.87253458422 7.762466206435445\n",
      "102941.80743797835 11.626711261485966\n",
      "102941.71908731434 9.474081903597542\n",
      "102941.61535189247 15.016158720012893\n",
      "102941.49345386078 6.545584691799219\n",
      "102941.36667432661 10.42277854717199\n",
      "102941.29795073626 6.408651863450433\n",
      "102941.12005360877 10.731290656372847\n",
      "102941.0014313524 11.395036072167875\n",
      "102940.73946457147 8.05655940428575\n",
      "102940.56923461195 12.894126167124805\n",
      "102940.50236521936 6.918969429819048\n",
      "102940.4610198303 8.962499325435758\n",
      "102940.36431072654 5.42732653434793\n",
      "102940.35624014601 40.350021156826124\n",
      "102940.30019991058 21.765055928596166\n",
      "102940.22998754027 8.862749387206334\n",
      "102940.1920825464 5.355726932058661\n",
      "102940.15287571584 5.8814147516041375\n",
      "102940.07529133825 7.984053456699243\n",
      "102939.9615221105 8.690611774609833\n",
      "102940.94532834736 31.645088686011132\n",
      "102939.9325008004 4.875565801184543\n",
      "102939.86585205077 5.583977877435467\n",
      "102939.99689180563 36.07744372316046\n",
      "102939.85082233667 6.681315578569657\n",
      "102939.82844792244 7.622301387168015\n",
      "102939.70833123499 3.4632172880326957\n",
      "102939.63123052077 3.9264812982766437\n",
      "102939.69013790472 32.22633192745366\n",
      "102939.6202813048 7.976415626376319\n",
      "102939.59548916837 4.3474301090190846\n",
      "102939.56532648389 3.3307797463167446\n",
      "102939.51434802098 4.447509407111314\n",
      "102939.47492676589 3.8111519512692626\n",
      "102939.39478207269 3.786764966800315\n",
      "102940.21549989613 41.310814184037454\n",
      "102939.38208970304 3.20343460341799\n",
      "102939.34709369398 6.142093586874693\n",
      "102939.35171125256 11.334211693253605\n",
      "102939.33292825213 3.1579831994279264\n",
      "102939.32440279542 2.6757507154726103\n",
      "102939.28894724025 1.9897684975488565\n",
      "102939.26603677361 12.331787417749583\n",
      "102939.24592680341 7.604907637320627\n",
      "102939.23500451798 2.869927116271661\n",
      "102939.22803588076 2.2206455821371094\n",
      "102939.21708433866 3.4756949867737568\n",
      "102939.19795757711 4.2016112927963265\n",
      "102939.1694114386 3.88814741724864\n",
      "102940.50489209754 52.22776018587776\n",
      "102939.16646082181 2.0028179016384797\n",
      "102939.1531550596 2.387539945386635\n",
      "102939.8050248314 53.54186021883043\n",
      "102939.15030229348 2.4215653379077224\n",
      "102939.14608385632 2.5993847986661636\n",
      "102939.15281333476 8.520936047770169\n",
      "102939.14017526721 2.5351280251515877\n",
      "102939.13017197559 5.351807222795354\n",
      "102939.12382985053 3.692613190178928\n",
      "102939.11490255572 1.3646443381388418\n",
      "102939.11255842654 1.4319629522769586\n",
      "102939.1012251472 2.5928397233395066\n",
      "102939.09434185478 2.2614636779853408\n",
      "102939.08926604649 1.8641175252493518\n",
      "102939.08619472309 1.3897553256486452\n",
      "102939.07945796364 1.420508227558405\n",
      "102939.07398875638 2.0132009818378056\n",
      "102939.0774941273 7.993159451210798\n",
      "102939.07151247843 2.4531886448634435\n",
      "102939.06873090279 1.0351374390782984\n",
      "102939.06575931236 1.4850141380325221\n",
      "102939.06177134634 1.0465457038086385\n",
      "102939.05678227825 3.4642372633994176\n",
      "102939.05302221056 1.0833248846246486\n",
      "102939.05085693956 1.6521170856570349\n",
      "102939.04819389849 1.4458639782600022\n",
      "102939.05449266877 6.1056891568203255\n",
      "102939.04621011023 1.5264231232329202\n",
      "102939.04127556409 1.3009277998876303\n",
      "102939.033406259 0.7605489155245441\n",
      "102939.02886126144 3.8878260472830477\n",
      "102939.02840680127 3.272899330092156\n",
      "102939.02642617651 0.6080278289260828\n",
      "102939.02615149657 0.6021152958764191\n",
      "102939.024894693 1.0285553963520166\n",
      "102939.02377867942 0.6501590109858448\n",
      "102939.02357447428 2.554258847391887\n",
      "102939.02264120286 1.449167358734955\n",
      "102939.02121360131 0.7717383675229909\n",
      "102939.01994470115 1.2477335596271433\n",
      "102939.01876304581 1.3159455963558733\n",
      "102939.01853758222 3.6028848538676446\n"
     ]
    }
   ],
   "source": [
    "result = optimize_advi_mean_field(theta_shapes, log_prior_fun, curried_lik, \n",
    "                                  constrain_fun_dict=theta_constraints, verbose=True, M=100)"
   ]
  },
  {
   "cell_type": "code",
   "execution_count": 13,
   "metadata": {},
   "outputs": [],
   "source": [
    "import pandas as pd\n",
    "\n",
    "mean_skills_advi = pd.Series(result['free_means']['player_skills'], index=names).sort_values(ascending=False)"
   ]
  },
  {
   "cell_type": "code",
   "execution_count": 14,
   "metadata": {},
   "outputs": [
    {
     "name": "stdout",
     "output_type": "stream",
     "text": [
      "|                       |    0 |\n",
      "|:----------------------|-----:|\n",
      "| Novak Djokovic        | 3.59 |\n",
      "| Rafael Nadal          | 3.45 |\n",
      "| Roger Federer         | 3.34 |\n",
      "| Ivan Lendl            | 3.23 |\n",
      "| Bjorn Borg            | 3.23 |\n",
      "| John McEnroe          | 3.18 |\n",
      "| Jimmy Connors         | 3.16 |\n",
      "| Rod Laver             | 3.03 |\n",
      "| Andy Murray           | 2.99 |\n",
      "| Pete Sampras          | 2.92 |\n",
      "| Boris Becker          | 2.83 |\n",
      "| Andre Agassi          | 2.76 |\n",
      "| Stefan Edberg         | 2.74 |\n",
      "| Andy Roddick          | 2.72 |\n",
      "| Juan Martin del Potro | 2.71 |\n",
      "| Arthur Ashe           | 2.63 |\n",
      "| Ken Rosewall          | 2.62 |\n",
      "| Guillermo Vilas       | 2.6  |\n",
      "| John Newcombe         | 2.54 |\n",
      "| Mats Wilander         | 2.44 |\n"
     ]
    }
   ],
   "source": [
    "print(mean_skills_advi.head(20).round(2).to_markdown())"
   ]
  },
  {
   "cell_type": "code",
   "execution_count": 15,
   "metadata": {},
   "outputs": [],
   "source": [
    "# Compare with stan\n",
    "from stan_utils import load_stan_model_cached\n",
    "\n",
    "stan_model = load_stan_model_cached('stan_tennis.stan')"
   ]
  },
  {
   "cell_type": "code",
   "execution_count": 16,
   "metadata": {},
   "outputs": [],
   "source": [
    "stan_data = {\n",
    "    'N': winner_ids.shape[0],\n",
    "    'P': len(names),\n",
    "    'winner_ids': winner_ids + 1,\n",
    "    'loser_ids': loser_ids + 1\n",
    "}"
   ]
  },
  {
   "cell_type": "code",
   "execution_count": 17,
   "metadata": {},
   "outputs": [],
   "source": [
    "import numpy as np\n",
    "\n",
    "# Uncomment if you want to fit the Stan model. It takes a while though!\n",
    "#stan_fit = stan_model.sampling(data=stan_data)\n",
    "stan_fit = np.load('./stan_samples.npz')"
   ]
  },
  {
   "cell_type": "code",
   "execution_count": 18,
   "metadata": {},
   "outputs": [],
   "source": [
    "player_skills = stan_fit['player_skills']"
   ]
  },
  {
   "cell_type": "code",
   "execution_count": 19,
   "metadata": {},
   "outputs": [],
   "source": [
    "mean_skills = player_skills.mean(axis=0)\n",
    "advi_sds = result['free_sds']['player_skills']"
   ]
  },
  {
   "cell_type": "code",
   "execution_count": 20,
   "metadata": {},
   "outputs": [],
   "source": [
    "mean_skills = pd.Series(mean_skills, index=names)"
   ]
  },
  {
   "cell_type": "code",
   "execution_count": 21,
   "metadata": {},
   "outputs": [
    {
     "data": {
      "image/png": "[encoded data removed]",
      "text/plain": [
       "<Figure size 720x288 with 2 Axes>"
      ]
     },
     "metadata": {
      "needs_background": "light"
     },
     "output_type": "display_data"
    }
   ],
   "source": [
    "import matplotlib.pyplot as plt\n",
    "%matplotlib inline\n",
    "\n",
    "f, ax = plt.subplots(1, 2)\n",
    "\n",
    "ax[0].scatter(mean_skills, mean_skills_advi.loc[mean_skills.index])\n",
    "ax[0].plot([mean_skills.min(), mean_skills.max()], [mean_skills.min(), mean_skills.max()], color='r', linestyle='--')\n",
    "\n",
    "ax[1].scatter(player_skills.std(axis=0), advi_sds)\n",
    "ax[1].plot([advi_sds.min(), advi_sds.max()], [advi_sds.min(), advi_sds.max()], linestyle='--', color='r')\n",
    "\n",
    "ax[0].set_title('Comparison of posterior means')\n",
    "ax[1].set_title('Comparison of posterior sds')\n",
    "\n",
    "ax[0].set_xlabel('Stan means')\n",
    "ax[0].set_ylabel('ADVI means')\n",
    "\n",
    "ax[1].set_xlabel('Stan sds')\n",
    "ax[1].set_ylabel('ADVI sds')\n",
    "\n",
    "f.set_size_inches(10, 4)\n",
    "f.tight_layout()\n",
    "\n",
    "plt.savefig('tennis_comparison.png', dpi=300)"
   ]
  },
  {
   "cell_type": "code",
   "execution_count": 22,
   "metadata": {},
   "outputs": [],
   "source": [
    "import numpy as np\n",
    "\n",
    "# Save the Stan samples.\n",
    "#np.savez('stan_samples', **stan_fit.extract())"
   ]
  },
  {
   "cell_type": "code",
   "execution_count": 23,
   "metadata": {},
   "outputs": [
    {
     "name": "stderr",
     "output_type": "stream",
     "text": [
      "WARNING:pystan:Automatic Differentiation Variational Inference (ADVI) is an EXPERIMENTAL ALGORITHM.\n",
      "WARNING:pystan:ADVI samples may be found on the filesystem in the file `/tmp/tmpuyk6zuzi/output.csv`\n"
     ]
    }
   ],
   "source": [
    "# Try Stan's ADVI\n",
    "vb_result_stan = stan_model.vb(data=stan_data, )"
   ]
  },
  {
   "cell_type": "code",
   "execution_count": 25,
   "metadata": {},
   "outputs": [
    {
     "data": {
      "text/plain": [
       "odict_keys(['args', 'inits', 'sampler_params', 'sampler_param_names', 'mean_pars', 'mean_par_names'])"
      ]
     },
     "execution_count": 25,
     "metadata": {},
     "output_type": "execute_result"
    }
   ],
   "source": [
    "vb_result_stan.keys()"
   ]
  },
  {
   "cell_type": "code",
   "execution_count": 30,
   "metadata": {},
   "outputs": [],
   "source": [
    "stan_advi_res = [y for x, y in zip(vb_result_stan['mean_par_names'], vb_result_stan['mean_pars']) \n",
    " if 'player_skills[' in x]"
   ]
  },
  {
   "cell_type": "code",
   "execution_count": 39,
   "metadata": {},
   "outputs": [
    {
     "data": {
      "image/png": "[encoded data removed]",
      "text/plain": [
       "<Figure size 360x288 with 1 Axes>"
      ]
     },
     "metadata": {
      "needs_background": "light"
     },
     "output_type": "display_data"
    }
   ],
   "source": [
    "import matplotlib.pyplot as plt\n",
    "%matplotlib inline\n",
    "\n",
    "plt.scatter(mean_skills, stan_advi_res)\n",
    "plt.plot([mean_skills.min(), mean_skills.max()], [mean_skills.min(), mean_skills.max()], color='r', linestyle='--')\n",
    "\n",
    "plt.title('Comparison of posterior means')\n",
    "\n",
    "plt.xlabel('Stan HMC means')\n",
    "plt.ylabel('Stan ADVI means')\n",
    "\n",
    "plt.gcf().set_size_inches(5, 4)\n",
    "plt.gcf().tight_layout()\n",
    "\n",
    "plt.savefig('tennis_comparison_stan_advi.png', dpi=300)\n",
    "\n"
   ]
  },
  {
   "cell_type": "code",
   "execution_count": null,
   "metadata": {},
   "outputs": [],
   "source": []
  }
 ],
 "metadata": {
  "kernelspec": {
   "display_name": "Python 3",
   "language": "python",
   "name": "python3"
  },
  "language_info": {
   "codemirror_mode": {
    "name": "ipython",
    "version": 3
   },
   "file_extension": ".py",
   "mimetype": "text/x-python",
   "name": "python",
   "nbconvert_exporter": "python",
   "pygments_lexer": "ipython3",
   "version": "3.7.7"
  }
 },
 "nbformat": 4,
 "nbformat_minor": 4
}
