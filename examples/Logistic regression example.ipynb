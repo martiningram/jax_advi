{
 "cells": [
  {
   "cell_type": "code",
   "execution_count": 1,
   "metadata": {},
   "outputs": [],
   "source": [
    "import numpy as np\n",
    "import jax.numpy as jnp\n",
    "import matplotlib.pyplot as plt\n",
    "%matplotlib inline\n",
    "from jax.nn import sigmoid, log_sigmoid"
   ]
  },
  {
   "cell_type": "code",
   "execution_count": 2,
   "metadata": {},
   "outputs": [],
   "source": [
    "N = 1000\n",
    "K = 10\n",
    "\n",
    "np.random.seed(2)\n",
    "\n",
    "X = np.random.randn(N, K)\n",
    "beta_true = np.random.randn(K)\n",
    "gamma_true = np.random.normal()\n",
    "\n",
    "logit_true = X @ beta_true + gamma_true\n",
    "\n",
    "y = np.random.uniform(size=N) < sigmoid(logit_true)"
   ]
  },
  {
   "cell_type": "code",
   "execution_count": 28,
   "metadata": {},
   "outputs": [],
   "source": [
    "import pystan\n",
    "from stan_utils import load_stan_model_cached\n",
    "\n",
    "# Fit this with Stan\n",
    "\n",
    "model_data = {\n",
    "    'X': X,\n",
    "    'y': y.astype(int),\n",
    "    'N': N,\n",
    "    'K': K\n",
    "}\n",
    "\n",
    "stan_model = load_stan_model_cached('./stan_log_reg.stan')"
   ]
  },
  {
   "cell_type": "code",
   "execution_count": 29,
   "metadata": {},
   "outputs": [],
   "source": [
    "fit_result = stan_model.sampling(data=model_data)"
   ]
  },
  {
   "cell_type": "code",
   "execution_count": 30,
   "metadata": {},
   "outputs": [
    {
     "name": "stdout",
     "output_type": "stream",
     "text": [
      "Inference for Stan model: anon_model_13e2503bce983084faaf24120f53644d.\n",
      "4 chains, each with iter=2000; warmup=1000; thin=1; \n",
      "post-warmup draws per chain=1000, total post-warmup draws=4000.\n",
      "\n",
      "           mean se_mean     sd   2.5%    25%    50%    75%  97.5%  n_eff   Rhat\n",
      "beta[1]   -0.83  1.4e-3    0.1  -1.04   -0.9  -0.83  -0.76  -0.63   5533    1.0\n",
      "beta[2]   -0.45  1.2e-3    0.1  -0.63  -0.52  -0.45  -0.38  -0.26   6685    1.0\n",
      "beta[3]   -0.34  1.0e-3   0.09  -0.52   -0.4  -0.34  -0.28  -0.16   7744    1.0\n",
      "beta[4]   -0.34  1.1e-3   0.09  -0.53  -0.41  -0.34  -0.28  -0.17   7131    1.0\n",
      "beta[5]   -1.72  2.0e-3   0.13  -1.99  -1.81  -1.72  -1.63  -1.47   4504    1.0\n",
      "beta[6]    0.57  1.2e-3    0.1   0.37    0.5   0.56   0.63   0.77   6970    1.0\n",
      "beta[7]   -0.81  1.3e-3    0.1  -1.01  -0.88  -0.81  -0.74  -0.62   5624    1.0\n",
      "beta[8]    0.15  8.9e-4   0.09  -0.02   0.09   0.15   0.21   0.32   9925    1.0\n",
      "beta[9]   -1.42  1.9e-3   0.12  -1.66   -1.5  -1.41  -1.33  -1.19   4230    1.0\n",
      "beta[10]  -1.08  1.5e-3   0.11  -1.31  -1.15  -1.08   -1.0  -0.86   5258    1.0\n",
      "gamma      0.28  1.1e-3   0.09   0.09   0.22   0.28   0.34   0.47   7384    1.0\n",
      "lp__     -382.9    0.06   2.39 -388.5 -384.3 -382.6 -381.2 -379.2   1757    1.0\n",
      "\n",
      "Samples were drawn using NUTS at Mon Nov  2 16:16:55 2020.\n",
      "For each parameter, n_eff is a crude measure of effective sample size,\n",
      "and Rhat is the potential scale reduction factor on split chains (at \n",
      "convergence, Rhat=1).\n"
     ]
    }
   ],
   "source": [
    "print(fit_result)"
   ]
  },
  {
   "cell_type": "code",
   "execution_count": 31,
   "metadata": {},
   "outputs": [
    {
     "data": {
      "text/plain": [
       "<matplotlib.collections.PathCollection at 0x7fa12d343750>"
      ]
     },
     "execution_count": 31,
     "metadata": {},
     "output_type": "execute_result"
    },
    {
     "data": {
      "image/png": "[encoded data removed]",
      "text/plain": [
       "<Figure size 432x288 with 1 Axes>"
      ]
     },
     "metadata": {
      "needs_background": "light"
     },
     "output_type": "display_data"
    }
   ],
   "source": [
    "plt.scatter(beta_true, fit_result['beta'].mean(axis=0))"
   ]
  },
  {
   "cell_type": "code",
   "execution_count": 32,
   "metadata": {},
   "outputs": [
    {
     "data": {
      "text/plain": [
       "0.25193706697790286"
      ]
     },
     "execution_count": 32,
     "metadata": {},
     "output_type": "execute_result"
    }
   ],
   "source": [
    "gamma_true"
   ]
  },
  {
   "cell_type": "code",
   "execution_count": 33,
   "metadata": {},
   "outputs": [],
   "source": [
    "from jax_advi.advi import optimize_advi_mean_field\n",
    "from jax import jit\n",
    "from jax.scipy.stats import norm"
   ]
  },
  {
   "cell_type": "code",
   "execution_count": 34,
   "metadata": {},
   "outputs": [],
   "source": [
    "# Try ADVI\n",
    "theta_shapes = {\n",
    "    'beta': (K),\n",
    "    'gamma': ()\n",
    "}"
   ]
  },
  {
   "cell_type": "code",
   "execution_count": 35,
   "metadata": {},
   "outputs": [],
   "source": [
    "def calculate_likelihood(theta, X, y):\n",
    "    \n",
    "    logit_prob = X @ theta['beta'] + theta['gamma']\n",
    "    \n",
    "    prob_pres = log_sigmoid(logit_prob)\n",
    "    prob_abs = log_sigmoid(-logit_prob)\n",
    "    \n",
    "    return jnp.sum(y * prob_pres + (1 - y) * prob_abs)\n",
    "\n",
    "def calculate_prior(theta):\n",
    "    \n",
    "    beta_prior = jnp.sum(norm.logpdf(theta['beta']))\n",
    "    gamma_prior = jnp.sum(norm.logpdf(theta['gamma']))\n",
    "    \n",
    "    return beta_prior + gamma_prior"
   ]
  },
  {
   "cell_type": "code",
   "execution_count": 11,
   "metadata": {},
   "outputs": [],
   "source": [
    "from functools import partial"
   ]
  },
  {
   "cell_type": "code",
   "execution_count": 12,
   "metadata": {},
   "outputs": [],
   "source": [
    "log_lik_fun = jit(partial(calculate_likelihood, X=X, y=y))\n",
    "log_prior_fun = jit(calculate_prior)"
   ]
  },
  {
   "cell_type": "code",
   "execution_count": 13,
   "metadata": {},
   "outputs": [],
   "source": [
    "result = optimize_advi_mean_field(theta_shapes, log_prior_fun, log_lik_fun, n_draws=None)"
   ]
  },
  {
   "cell_type": "code",
   "execution_count": 14,
   "metadata": {},
   "outputs": [
    {
     "data": {
      "text/plain": [
       "{'free_means': {'beta': array([-0.82344996, -0.44693485, -0.33946258, -0.35119831, -1.70629835,\n",
       "          0.55354204, -0.80549964,  0.14861987, -1.42311193, -1.06534286]),\n",
       "  'gamma': array(0.30991296)},\n",
       " 'free_sds': {'beta': DeviceArray([0.09989063, 0.09379449, 0.09851529, 0.09609015, 0.11003966,\n",
       "               0.09300026, 0.08662668, 0.09549714, 0.09975527, 0.08704654],            dtype=float32),\n",
       "  'gamma': DeviceArray(0.09323669, dtype=float32)},\n",
       " 'opt_result':       fun: array(418.88650513)\n",
       "  hess_inv: <22x22 LbfgsInvHessProduct with dtype=float64>\n",
       "       jac: array([-0.00772798,  0.00264925,  0.00566322, -0.00923032,  0.00204819,\n",
       "        -0.00964478,  0.00459319,  0.00268805, -0.00132859,  0.00446451,\n",
       "         0.00776583, -0.00357068,  0.00035286, -0.00168037, -0.00022566,\n",
       "        -0.00010026, -0.00145274,  0.00488627, -0.002267  ,  0.00397432,\n",
       "         0.00257874, -0.00269526])\n",
       "   message: b'CONVERGENCE: REL_REDUCTION_OF_F_<=_FACTR*EPSMCH'\n",
       "      nfev: 37\n",
       "       nit: 21\n",
       "    status: 0\n",
       "   success: True\n",
       "         x: array([-0.82344996, -0.44693485, -0.33946258, -0.35119831, -1.70629835,\n",
       "         0.55354204, -0.80549964,  0.14861987, -1.42311193, -1.06534286,\n",
       "         0.30991296, -2.30367936, -2.36664914, -2.31754349, -2.34246858,\n",
       "        -2.20691447, -2.37515312, -2.44614756, -2.34865898, -2.30503531,\n",
       "        -2.44131234, -2.37261397])}"
      ]
     },
     "execution_count": 14,
     "metadata": {},
     "output_type": "execute_result"
    }
   ],
   "source": [
    "result"
   ]
  },
  {
   "cell_type": "code",
   "execution_count": 27,
   "metadata": {},
   "outputs": [
    {
     "data": {
      "image/png": "[encoded data removed]",
      "text/plain": [
       "<Figure size 720x288 with 2 Axes>"
      ]
     },
     "metadata": {
      "needs_background": "light"
     },
     "output_type": "display_data"
    }
   ],
   "source": [
    "f, ax = plt.subplots(1, 2)\n",
    "\n",
    "ax[0].scatter(fit_result['beta'].mean(axis=0), result['free_means']['beta'])\n",
    "\n",
    "ax[0].plot([result['free_means']['beta'].min(), result['free_means']['beta'].max()],\n",
    "           [result['free_means']['beta'].min(), result['free_means']['beta'].max()])\n",
    "\n",
    "ax[1].scatter(fit_result['beta'].std(axis=0), result['free_sds']['beta'])\n",
    "ax[1].plot([result['free_sds']['beta'].min(), result['free_sds']['beta'].max()],\n",
    "              [result['free_sds']['beta'].min(), result['free_sds']['beta'].max()])\n",
    "\n",
    "ax[0].set_title('Comparison of posterior means')\n",
    "ax[1].set_title('Comparison of posterior sds')\n",
    "\n",
    "ax[0].set_xlabel('Stan means')\n",
    "ax[0].set_ylabel('ADVI means')\n",
    "\n",
    "ax[1].set_xlabel('Stan sds')\n",
    "ax[1].set_ylabel('ADVI sds')\n",
    "\n",
    "f.set_size_inches(10, 4)\n",
    "f.tight_layout()\n",
    "\n",
    "plt.savefig('logistic_reg_comparison.png', dpi=300)"
   ]
  },
  {
   "cell_type": "code",
   "execution_count": null,
   "metadata": {},
   "outputs": [],
   "source": []
  }
 ],
 "metadata": {
  "kernelspec": {
   "display_name": "Python 3",
   "language": "python",
   "name": "python3"
  },
  "language_info": {
   "codemirror_mode": {
    "name": "ipython",
    "version": 3
   },
   "file_extension": ".py",
   "mimetype": "text/x-python",
   "name": "python",
   "nbconvert_exporter": "python",
   "pygments_lexer": "ipython3",
   "version": "3.7.7"
  }
 },
 "nbformat": 4,
 "nbformat_minor": 4
}
